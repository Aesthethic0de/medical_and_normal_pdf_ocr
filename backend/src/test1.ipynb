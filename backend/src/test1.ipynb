{
 "cells": [
  {
   "cell_type": "code",
   "execution_count": 2,
   "metadata": {},
   "outputs": [],
   "source": [
    "\n",
    "from pydoc import doc\n",
    "import pytesseract\n",
    "from pdf2image import convert_from_path\n",
    "POPPLER_PATH = r\"C:\\poppler\\Library\\bin\"\n",
    "pytesseract.pytesseract.tesseract_cmd = r\"C:\\Program Files\\Tesseract-OCR\\tesseract.exe\"\n"
   ]
  },
  {
   "cell_type": "code",
   "execution_count": 3,
   "metadata": {},
   "outputs": [],
   "source": [
    "file = r\"C:\\Users\\SomeetSingh\\Desktop\\test_german.pdf\""
   ]
  },
  {
   "cell_type": "code",
   "execution_count": 4,
   "metadata": {},
   "outputs": [
    {
     "data": {
      "text/plain": [
       "'C:\\\\Users\\\\SomeetSingh\\\\Desktop\\\\test_german.pdf'"
      ]
     },
     "execution_count": 4,
     "metadata": {},
     "output_type": "execute_result"
    }
   ],
   "source": [
    "file"
   ]
  },
  {
   "cell_type": "code",
   "execution_count": 5,
   "metadata": {},
   "outputs": [],
   "source": [
    "pages = convert_from_path(file, poppler_path=POPPLER_PATH)"
   ]
  },
  {
   "cell_type": "code",
   "execution_count": 10,
   "metadata": {},
   "outputs": [],
   "source": [
    "document_text = \" \"\n",
    "\n",
    "if len(pages)>0:\n",
    "    page=pages[0]\n",
    "    text = pytesseract.image_to_string(page, lang=\"deu\")\n",
    "    document_text = \"\\n\" + text"
   ]
  },
  {
   "cell_type": "code",
   "execution_count": 11,
   "metadata": {},
   "outputs": [
    {
     "name": "stdout",
     "output_type": "stream",
     "text": [
      "\n",
      "INTRODUCTION\n",
      "\n",
      "“Das Land der Dichter und Denker”(\"the land of poets and thinkers”)-this is\n",
      "what Germans often call their homeland. Since Johannes Gutenberg invented the\n",
      "printing press in the 15“ century, reading stories has become one of Germans’\n",
      "favorite past-times. People used to stand on corners and read cheap copies of\n",
      "loose paper and books, much like you see people stare at their smarphone\n",
      "screens today.\n",
      "\n",
      "Even before the invention of the printing press, most knowledge was passed\n",
      "down from generation to generation through storytelling. Therefore, even today,\n",
      "we tend to retain information best when we learn something that we can relate to\n",
      "on an emotional level. This is the idea at the core of this book.\n",
      "\n",
      "When you read stories in a foreign language, you retain more than just words.\n",
      "You also immerse yourself in a new culture and, many times, broaden your\n",
      "knowledge of a new country. You open yourself to a learning experience than\n",
      "can only be topped by actually living somewhere where people speak this\n",
      "language and participate in its culture.\n",
      "\n",
      "Each chapter in this book is comprised of a short story, a reading comprehension\n",
      "section, and a quiz section. Science shows that the retention of reading material\n",
      "is increased by repetition. There is a quiz key at the end of the book for you to\n",
      "see how well you answered each question.\n",
      "\n",
      "In this book, you will learn German vocabulary and discover expressions used in\n",
      "the daily life of many German people. This book was written with the intention\n",
      "to help you develop a basic understanding of German and be comfortable\n",
      "enough to broaden your knowledge of the language. After reading it, you may\n",
      "even want to plan a trip to Germany!\n"
     ]
    }
   ],
   "source": [
    "print(document_text)"
   ]
  },
  {
   "cell_type": "code",
   "execution_count": null,
   "metadata": {},
   "outputs": [],
   "source": []
  }
 ],
 "metadata": {
  "kernelspec": {
   "display_name": "Python 3.8.13 ('medi')",
   "language": "python",
   "name": "python3"
  },
  "language_info": {
   "codemirror_mode": {
    "name": "ipython",
    "version": 3
   },
   "file_extension": ".py",
   "mimetype": "text/x-python",
   "name": "python",
   "nbconvert_exporter": "python",
   "pygments_lexer": "ipython3",
   "version": "3.8.13"
  },
  "orig_nbformat": 4,
  "vscode": {
   "interpreter": {
    "hash": "d01c4f22a54fbe0a6fae6aa1ae3c57008fa1e1a40e102fe0ee6091e7b5c65a18"
   }
  }
 },
 "nbformat": 4,
 "nbformat_minor": 2
}
